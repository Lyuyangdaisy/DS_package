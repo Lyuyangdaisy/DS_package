{
 "cells": [
  {
   "cell_type": "code",
   "execution_count": 2,
   "metadata": {},
   "outputs": [],
   "source": [
    "import os\n",
    "import math\n",
    "import random\n",
    "import numpy as np\n",
    "import pandas as pd"
   ]
  },
  {
   "cell_type": "code",
   "execution_count": 54,
   "metadata": {},
   "outputs": [],
   "source": [
    "from numpy import mean, std\n",
    "\n",
    "def CalcWeight(x):\n",
    "    m, n = x.shape\n",
    "    s = np.zeros((1,1), dtype=float)\n",
    "    cv = np.zeros((1,n), dtype=float)\n",
    "    weight = np.zeros((1,n), dtype=float)\n",
    "    \n",
    "    for i in range(n):\n",
    "        cv[0][i] = std(x_data[:,i])/mean(x_data[:,i])\n",
    "        \n",
    "    s = np.sum(cv, axis=1)\n",
    "    \n",
    "    for j in range(n):\n",
    "        weight[0][j] = cv[0][j] / s\n",
    "    return weight"
   ]
  },
  {
   "cell_type": "code",
   "execution_count": 80,
   "metadata": {},
   "outputs": [],
   "source": [
    "def initCentroid(x,k):\n",
    "    n = np.size(x,0)\n",
    "    idx_rand = np.array(random.sample(range(1,n), k))\n",
    "    centroid = x[idx_rand, :]\n",
    "    return centroid\n",
    "\n",
    "def __check_params(data, k, weights, max_iter, tol):\n",
    "    if k <= 0 or k > data.shape[0]:\n",
    "        raise ValueError(\"k must be > 0 and <= {}, got {}\".format(data.shape[0], k))\n",
    "\n",
    "    if weights.size != data.shape[1]:\n",
    "        raise ValueError(\"weights length expected {}, got {}\".format(data.shape[0], len(weights)))\n",
    "\n",
    "    if max_iter <= 0:\n",
    "        raise ValueError(\"max_iter must be > 0, got {}\".format(max_iter))\n",
    "\n",
    "    if tol < 0.0:\n",
    "        raise ValueError(\"tol must be >= 0.0, got {}\".format(tol))\n",
    "        \n",
    "def sqrsum(x):\n",
    "    return np.sum(x * x)"
   ]
  },
  {
   "cell_type": "code",
   "execution_count": 56,
   "metadata": {},
   "outputs": [],
   "source": [
    "from sklearn import preprocessing\n",
    "\n",
    "orig_data = pd.read_excel('test4.xlsx')\n",
    "orig_data.dropna(inplace=True)\n",
    "\n",
    "x_orig_data = orig_data.drop('TRUE VALUE',axis=1)\n",
    "y_label = orig_data['TRUE VALUE']\n",
    "\n",
    "process = preprocessing.MinMaxScaler()\n",
    "x_data = process.fit_transform(x_orig_data)"
   ]
  },
  {
   "cell_type": "code",
   "execution_count": 82,
   "metadata": {},
   "outputs": [
    {
     "name": "stdout",
     "output_type": "stream",
     "text": [
      "[[5.65092166e-01 5.61224490e-02 1.65671642e-01 3.82775120e-03\n",
      "  5.15091848e-01 3.76470588e-02 2.04447633e-01 1.83961337e-01\n",
      "  3.95519547e-01]\n",
      " [5.89017857e-01 2.04081633e-04 7.46268657e-09 1.72248804e-03\n",
      "  2.17525663e-01 1.08152941e-02 9.28388508e-01 1.70067636e-04\n",
      "  4.10733105e-01]]\n"
     ]
    }
   ],
   "source": [
    "n_iters = 5\n",
    "n_clusters = 2\n",
    "centroids = np.zeros((n_clusters,30), dtype=float)\n",
    "centroids = initCentroid(x_data, n_clusters)\n",
    "print(centroids)"
   ]
  },
  {
   "cell_type": "code",
   "execution_count": 61,
   "metadata": {},
   "outputs": [
    {
     "name": "stdout",
     "output_type": "stream",
     "text": [
      "Kmeans Finish!\n",
      "(474, 9) (498, 9)\n"
     ]
    }
   ],
   "source": [
    "loss = np.zeros(n_iters)\n",
    "\n",
    "dist = np.zeros((x_data.shape[0],n_clusters), dtype=float)\n",
    "\n",
    "for i in range(n_iters):\n",
    "    for j in range(x_data.shape[0]):\n",
    "        distance = np.power(x_data[j,:]-centroids, 2)  \n",
    "        distance = np.sum(distance, axis=1)\n",
    "        distance = np.sqrt(distance) \n",
    "        dist[j,:] = distance\n",
    "    idx = np.argmin(dist, axis=1)\n",
    "    loss[i] = np.mean(np.min(dist, axis=1))\n",
    "    \n",
    "    for k in range(n_clusters):\n",
    "        d = x_data[idx==k, :]\n",
    "        if k == 0:\n",
    "            data1 = d\n",
    "        else:\n",
    "            data2 = d\n",
    "        centroids[k,:] = np.mean(d, axis=0)\n",
    "print(\"Kmeans Finish!\")\n",
    "print(data1.shape, data2.shape)"
   ]
  },
  {
   "cell_type": "code",
   "execution_count": 103,
   "metadata": {},
   "outputs": [
    {
     "name": "stdout",
     "output_type": "stream",
     "text": [
      "initial centroids are: [[5.91013825e-01 0.00000000e+00 1.18805970e-01 4.88995215e-01\n",
      "  2.01771627e-01 3.64705882e-02 4.19296987e-01 2.41545705e-02\n",
      "  4.07307347e-01]\n",
      " [5.86767485e-01 6.12244898e-04 1.00000000e-05 1.10047847e-03\n",
      "  2.20256057e-01 1.05882353e-02 9.24794051e-01 2.84038653e-04\n",
      "  4.09323511e-01]]\n",
      "CVWKmeans Finish!\n",
      "(197, 9) (775, 9)\n",
      "[9.31059554e-02 7.27233025e-06 0.00000000e+00 0.00000000e+00\n",
      " 0.00000000e+00]\n"
     ]
    }
   ],
   "source": [
    "from sklearn import preprocessing\n",
    "\n",
    "orig_data = pd.read_excel('test4.xlsx')\n",
    "orig_data.dropna(inplace=True)\n",
    "\n",
    "x_orig_data = orig_data.drop('TRUE VALUE',axis=1)\n",
    "y_label = orig_data['TRUE VALUE']\n",
    "\n",
    "process = preprocessing.MinMaxScaler()\n",
    "x_data = process.fit_transform(x_orig_data)\n",
    "\n",
    "dist = np.zeros((x_data.shape[0],n_clusters), dtype=float)\n",
    "\n",
    "n_iters = 5\n",
    "n_clusters = 2\n",
    "centroids = initCentroid(x_data, n_clusters)\n",
    "print(\"initial centroids are:\",centroids)\n",
    "\n",
    "w = CalcWeight(x_data)\n",
    "tol=1e-7\n",
    "C = np.zeros(n_iters)\n",
    "__check_params(x_data, 2, w, n_iters, tol)\n",
    "\n",
    "for i in range(n_iters):\n",
    "    old_centroids=centroids.copy()\n",
    "    for j in range(x_data.shape[0]):\n",
    "        distance = np.power(x_data[j,:]-centroids, 2)  \n",
    "#        print(x_data[j,:].shape,centroids.shape, distance.shape)\n",
    "        distance = np.sum(w*distance, axis=1)\n",
    "#        print(distance.shape)\n",
    "        distance = np.sqrt(distance) \n",
    "        dist[j,:] = distance\n",
    "    idx = np.argmin(dist, axis=1)\n",
    "    loss_w[i] = np.mean(np.min(dist, axis=1))\n",
    "\n",
    "    for k in range(n_clusters):\n",
    "        d = x_data[idx==k, :]\n",
    "        if k == 0:\n",
    "            data1 = d\n",
    "        else:\n",
    "            data2 = d\n",
    "        centroids[k,:] = np.mean(d, axis=0)\n",
    "    \n",
    "    centroid_change=sqrsum(centroids - old_centroids)\n",
    "    C[i]=centroid_change\n",
    "    if centroid_change <= tol:\n",
    "            break\n",
    "print(\"CVWKmeans Finish!\")\n",
    "print(data1.shape,data2.shape)\n",
    "print(C)"
   ]
  },
  {
   "cell_type": "code",
   "execution_count": 104,
   "metadata": {},
   "outputs": [
    {
     "data": {
      "image/png": "[encoded data removed]",
      "text/plain": [
       "<Figure size 432x288 with 1 Axes>"
      ]
     },
     "metadata": {
      "needs_background": "light"
     },
     "output_type": "display_data"
    }
   ],
   "source": [
    "import matplotlib.pyplot as plt\n",
    "\n",
    "plt.plot(np.arange(n_iters)+1, C, color='blue', marker='o', markersize=5, label='centroid change')\n",
    "plt.grid(True)\n",
    "plt.xlabel(\"Number of iteration\")\n",
    "plt.ylabel(\"centroid change\")\n",
    "plt.legend(loc='best')\n",
    "#plt.ylim([0.01, 0.5])\n",
    "plt.show()"
   ]
  },
  {
   "cell_type": "code",
   "execution_count": null,
   "metadata": {},
   "outputs": [],
   "source": []
  },
  {
   "cell_type": "code",
   "execution_count": 43,
   "metadata": {},
   "outputs": [
    {
     "data": {
      "text/plain": [
       "array([0.06332243, 0.06371305, 0.06371305, 0.06371305, 0.06371305])"
      ]
     },
     "execution_count": 43,
     "metadata": {},
     "output_type": "execute_result"
    }
   ],
   "source": [
    "loss_w"
   ]
  },
  {
   "cell_type": "code",
   "execution_count": 60,
   "metadata": {
    "scrolled": true
   },
   "outputs": [
    {
     "data": {
      "image/png": "[encoded data removed]",
      "text/plain": [
       "<Figure size 432x288 with 1 Axes>"
      ]
     },
     "metadata": {
      "needs_background": "light"
     },
     "output_type": "display_data"
    }
   ],
   "source": [
    "import matplotlib.pyplot as plt\n",
    "\n",
    "plt.figure()\n",
    "plt.plot(np.arange(n_iters)+1, loss, color='blue', marker='o', markersize=5, label='Kmeans loss')\n",
    "plt.plot(np.arange(n_iters)+1, loss_w, color='green', linestyle='--', marker='s', markersize=5, label='CVWKmeans loss')\n",
    "\n",
    "plt.grid(True)\n",
    "plt.xlabel(\"Number of iteration\")\n",
    "plt.ylabel(\"Number of loss\")\n",
    "plt.legend(loc='best')\n",
    "plt.ylim([0.01, 0.5])\n",
    "plt.show()"
   ]
  },
  {
   "cell_type": "code",
   "execution_count": null,
   "metadata": {},
   "outputs": [],
   "source": []
  }
 ],
 "metadata": {
  "kernelspec": {
   "display_name": "Python 3",
   "language": "python",
   "name": "python3"
  },
  "language_info": {
   "codemirror_mode": {
    "name": "ipython",
    "version": 3
   },
   "file_extension": ".py",
   "mimetype": "text/x-python",
   "name": "python",
   "nbconvert_exporter": "python",
   "pygments_lexer": "ipython3",
   "version": "3.6.5"
  }
 },
 "nbformat": 4,
 "nbformat_minor": 4
}
